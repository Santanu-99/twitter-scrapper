{
 "cells": [
  {
   "cell_type": "code",
   "execution_count": 1,
   "id": "4a35d10f-40e2-4426-97c8-6a7b440c04e3",
   "metadata": {},
   "outputs": [],
   "source": [
    "import csv\n",
    "from getpass import getpass\n",
    "from time import sleep\n",
    "\n",
    "from selenium.common.exceptions import NoSuchElementException\n",
    "from selenium import webdriver\n",
    "from selenium.webdriver.common.by import By\n",
    "from selenium.webdriver.common.keys import Keys"
   ]
  },
  {
   "cell_type": "code",
   "execution_count": 2,
   "id": "64a2ebd8-2fc0-4d67-8e4b-08f123a6e866",
   "metadata": {},
   "outputs": [],
   "source": [
    "# creating driver instance\n",
    "driver = webdriver.Edge()"
   ]
  },
  {
   "cell_type": "code",
   "execution_count": 3,
   "id": "5019b426-283c-4792-8414-d28eeb4f6158",
   "metadata": {},
   "outputs": [],
   "source": [
    "driver.get('https://www.twitter.com/login')\n",
    "driver.maximize_window()"
   ]
  },
  {
   "cell_type": "code",
   "execution_count": 4,
   "id": "482d37f6-d941-4c90-807e-7ac3d9e1e5e2",
   "metadata": {},
   "outputs": [],
   "source": [
    "# filling in the username\n",
    "email = driver.find_element(By.XPATH,\"//input[1]\")\n",
    "email.send_keys(\"bitup62@gmail.com\")\n",
    "# bitup62@gmail.com"
   ]
  },
  {
   "cell_type": "code",
   "execution_count": 5,
   "id": "4196d08f-a790-4a38-a286-80b79fa24c35",
   "metadata": {},
   "outputs": [],
   "source": [
    "# clicking the next button\n",
    "email.send_keys(Keys.RETURN)"
   ]
  },
  {
   "cell_type": "code",
   "execution_count": 6,
   "id": "116de2c9-e885-47fa-9631-326045e7b534",
   "metadata": {},
   "outputs": [
    {
     "ename": "NoSuchElementException",
     "evalue": "Message: no such element: Unable to locate element: {\"method\":\"xpath\",\"selector\":\"//input[@name='text']\"}\n  (Session info: MicrosoftEdge=109.0.1518.55)\nStacktrace:\nBacktrace:\n\tMicrosoft::Applications::Events::EventProperties::SetProperty [0x00007FF6CD280A12+15186]\n\tMicrosoft::Applications::Events::EventProperty::EventProperty [0x00007FF6CD219562+828946]\n\t(No symbol) [0x00007FF6CCEDED90]\n\t(No symbol) [0x00007FF6CCF22225]\n\t(No symbol) [0x00007FF6CCF223AC]\n\t(No symbol) [0x00007FF6CCF5E087]\n\t(No symbol) [0x00007FF6CCF41F8F]\n\t(No symbol) [0x00007FF6CCF14C3E]\n\t(No symbol) [0x00007FF6CCF5B513]\n\t(No symbol) [0x00007FF6CCF41D23]\n\t(No symbol) [0x00007FF6CCF13B80]\n\t(No symbol) [0x00007FF6CCF12B0E]\n\t(No symbol) [0x00007FF6CCF14344]\n\tMicrosoft::Applications::Events::EventProperties::SetProperty [0x00007FF6CD0FB190+182768]\n\t(No symbol) [0x00007FF6CCFCEF45]\n\tMicrosoft::Applications::Events::EventProperty::EventProperty [0x00007FF6CD1594CA+42362]\n\tMicrosoft::Applications::Events::EventProperty::EventProperty [0x00007FF6CD15C205+53941]\n\tMicrosoft::Applications::Events::ILogManager::DispatchEventBroadcast [0x00007FF6CD477E13+1456611]\n\tMicrosoft::Applications::Events::EventProperty::EventProperty [0x00007FF6CD221ABA+863082]\n\tMicrosoft::Applications::Events::EventProperty::EventProperty [0x00007FF6CD226BA4+883796]\n\tMicrosoft::Applications::Events::EventProperty::EventProperty [0x00007FF6CD226CFC+884140]\n\tMicrosoft::Applications::Events::EventProperty::EventProperty [0x00007FF6CD22FCCE+920958]\n\tBaseThreadInitThunk [0x00007FFA89A055A0+16]\n\tRtlUserThreadStart [0x00007FFA8AE8485B+43]\n",
     "output_type": "error",
     "traceback": [
      "\u001b[1;31m---------------------------------------------------------------------------\u001b[0m",
      "\u001b[1;31mNoSuchElementException\u001b[0m                    Traceback (most recent call last)",
      "Input \u001b[1;32mIn [6]\u001b[0m, in \u001b[0;36m<cell line: 2>\u001b[1;34m()\u001b[0m\n\u001b[0;32m      1\u001b[0m \u001b[38;5;66;03m# verify\u001b[39;00m\n\u001b[1;32m----> 2\u001b[0m username \u001b[38;5;241m=\u001b[39m \u001b[43mdriver\u001b[49m\u001b[38;5;241;43m.\u001b[39;49m\u001b[43mfind_element\u001b[49m\u001b[43m(\u001b[49m\u001b[43mBy\u001b[49m\u001b[38;5;241;43m.\u001b[39;49m\u001b[43mXPATH\u001b[49m\u001b[43m,\u001b[49m\u001b[38;5;124;43m\"\u001b[39;49m\u001b[38;5;124;43m//input[@name=\u001b[39;49m\u001b[38;5;124;43m'\u001b[39;49m\u001b[38;5;124;43mtext\u001b[39;49m\u001b[38;5;124;43m'\u001b[39;49m\u001b[38;5;124;43m]\u001b[39;49m\u001b[38;5;124;43m\"\u001b[39;49m\u001b[43m)\u001b[49m\n\u001b[0;32m      3\u001b[0m username\u001b[38;5;241m.\u001b[39msend_keys(\u001b[38;5;124m\"\u001b[39m\u001b[38;5;124m@Santanu5549310\u001b[39m\u001b[38;5;124m\"\u001b[39m)\n",
      "File \u001b[1;32m~\\anaconda3\\lib\\site-packages\\selenium\\webdriver\\remote\\webdriver.py:861\u001b[0m, in \u001b[0;36mWebDriver.find_element\u001b[1;34m(self, by, value)\u001b[0m\n\u001b[0;32m    858\u001b[0m     by \u001b[38;5;241m=\u001b[39m By\u001b[38;5;241m.\u001b[39mCSS_SELECTOR\n\u001b[0;32m    859\u001b[0m     value \u001b[38;5;241m=\u001b[39m \u001b[38;5;124m'\u001b[39m\u001b[38;5;124m[name=\u001b[39m\u001b[38;5;124m\"\u001b[39m\u001b[38;5;132;01m%s\u001b[39;00m\u001b[38;5;124m\"\u001b[39m\u001b[38;5;124m]\u001b[39m\u001b[38;5;124m'\u001b[39m \u001b[38;5;241m%\u001b[39m value\n\u001b[1;32m--> 861\u001b[0m \u001b[38;5;28;01mreturn\u001b[39;00m \u001b[38;5;28;43mself\u001b[39;49m\u001b[38;5;241;43m.\u001b[39;49m\u001b[43mexecute\u001b[49m\u001b[43m(\u001b[49m\u001b[43mCommand\u001b[49m\u001b[38;5;241;43m.\u001b[39;49m\u001b[43mFIND_ELEMENT\u001b[49m\u001b[43m,\u001b[49m\u001b[43m \u001b[49m\u001b[43m{\u001b[49m\u001b[38;5;124;43m\"\u001b[39;49m\u001b[38;5;124;43musing\u001b[39;49m\u001b[38;5;124;43m\"\u001b[39;49m\u001b[43m:\u001b[49m\u001b[43m \u001b[49m\u001b[43mby\u001b[49m\u001b[43m,\u001b[49m\u001b[43m \u001b[49m\u001b[38;5;124;43m\"\u001b[39;49m\u001b[38;5;124;43mvalue\u001b[39;49m\u001b[38;5;124;43m\"\u001b[39;49m\u001b[43m:\u001b[49m\u001b[43m \u001b[49m\u001b[43mvalue\u001b[49m\u001b[43m}\u001b[49m\u001b[43m)\u001b[49m[\u001b[38;5;124m\"\u001b[39m\u001b[38;5;124mvalue\u001b[39m\u001b[38;5;124m\"\u001b[39m]\n",
      "File \u001b[1;32m~\\anaconda3\\lib\\site-packages\\selenium\\webdriver\\remote\\webdriver.py:444\u001b[0m, in \u001b[0;36mWebDriver.execute\u001b[1;34m(self, driver_command, params)\u001b[0m\n\u001b[0;32m    442\u001b[0m response \u001b[38;5;241m=\u001b[39m \u001b[38;5;28mself\u001b[39m\u001b[38;5;241m.\u001b[39mcommand_executor\u001b[38;5;241m.\u001b[39mexecute(driver_command, params)\n\u001b[0;32m    443\u001b[0m \u001b[38;5;28;01mif\u001b[39;00m response:\n\u001b[1;32m--> 444\u001b[0m     \u001b[38;5;28;43mself\u001b[39;49m\u001b[38;5;241;43m.\u001b[39;49m\u001b[43merror_handler\u001b[49m\u001b[38;5;241;43m.\u001b[39;49m\u001b[43mcheck_response\u001b[49m\u001b[43m(\u001b[49m\u001b[43mresponse\u001b[49m\u001b[43m)\u001b[49m\n\u001b[0;32m    445\u001b[0m     response[\u001b[38;5;124m\"\u001b[39m\u001b[38;5;124mvalue\u001b[39m\u001b[38;5;124m\"\u001b[39m] \u001b[38;5;241m=\u001b[39m \u001b[38;5;28mself\u001b[39m\u001b[38;5;241m.\u001b[39m_unwrap_value(response\u001b[38;5;241m.\u001b[39mget(\u001b[38;5;124m\"\u001b[39m\u001b[38;5;124mvalue\u001b[39m\u001b[38;5;124m\"\u001b[39m, \u001b[38;5;28;01mNone\u001b[39;00m))\n\u001b[0;32m    446\u001b[0m     \u001b[38;5;28;01mreturn\u001b[39;00m response\n",
      "File \u001b[1;32m~\\anaconda3\\lib\\site-packages\\selenium\\webdriver\\remote\\errorhandler.py:249\u001b[0m, in \u001b[0;36mErrorHandler.check_response\u001b[1;34m(self, response)\u001b[0m\n\u001b[0;32m    247\u001b[0m         alert_text \u001b[38;5;241m=\u001b[39m value[\u001b[38;5;124m\"\u001b[39m\u001b[38;5;124malert\u001b[39m\u001b[38;5;124m\"\u001b[39m]\u001b[38;5;241m.\u001b[39mget(\u001b[38;5;124m\"\u001b[39m\u001b[38;5;124mtext\u001b[39m\u001b[38;5;124m\"\u001b[39m)\n\u001b[0;32m    248\u001b[0m     \u001b[38;5;28;01mraise\u001b[39;00m exception_class(message, screen, stacktrace, alert_text)  \u001b[38;5;66;03m# type: ignore[call-arg]  # mypy is not smart enough here\u001b[39;00m\n\u001b[1;32m--> 249\u001b[0m \u001b[38;5;28;01mraise\u001b[39;00m exception_class(message, screen, stacktrace)\n",
      "\u001b[1;31mNoSuchElementException\u001b[0m: Message: no such element: Unable to locate element: {\"method\":\"xpath\",\"selector\":\"//input[@name='text']\"}\n  (Session info: MicrosoftEdge=109.0.1518.55)\nStacktrace:\nBacktrace:\n\tMicrosoft::Applications::Events::EventProperties::SetProperty [0x00007FF6CD280A12+15186]\n\tMicrosoft::Applications::Events::EventProperty::EventProperty [0x00007FF6CD219562+828946]\n\t(No symbol) [0x00007FF6CCEDED90]\n\t(No symbol) [0x00007FF6CCF22225]\n\t(No symbol) [0x00007FF6CCF223AC]\n\t(No symbol) [0x00007FF6CCF5E087]\n\t(No symbol) [0x00007FF6CCF41F8F]\n\t(No symbol) [0x00007FF6CCF14C3E]\n\t(No symbol) [0x00007FF6CCF5B513]\n\t(No symbol) [0x00007FF6CCF41D23]\n\t(No symbol) [0x00007FF6CCF13B80]\n\t(No symbol) [0x00007FF6CCF12B0E]\n\t(No symbol) [0x00007FF6CCF14344]\n\tMicrosoft::Applications::Events::EventProperties::SetProperty [0x00007FF6CD0FB190+182768]\n\t(No symbol) [0x00007FF6CCFCEF45]\n\tMicrosoft::Applications::Events::EventProperty::EventProperty [0x00007FF6CD1594CA+42362]\n\tMicrosoft::Applications::Events::EventProperty::EventProperty [0x00007FF6CD15C205+53941]\n\tMicrosoft::Applications::Events::ILogManager::DispatchEventBroadcast [0x00007FF6CD477E13+1456611]\n\tMicrosoft::Applications::Events::EventProperty::EventProperty [0x00007FF6CD221ABA+863082]\n\tMicrosoft::Applications::Events::EventProperty::EventProperty [0x00007FF6CD226BA4+883796]\n\tMicrosoft::Applications::Events::EventProperty::EventProperty [0x00007FF6CD226CFC+884140]\n\tMicrosoft::Applications::Events::EventProperty::EventProperty [0x00007FF6CD22FCCE+920958]\n\tBaseThreadInitThunk [0x00007FFA89A055A0+16]\n\tRtlUserThreadStart [0x00007FFA8AE8485B+43]\n"
     ]
    }
   ],
   "source": [
    "# verify\n",
    "username = driver.find_element(By.XPATH,\"//input[@name='text']\")\n",
    "username.send_keys(\"@Santanu5549310\")"
   ]
  },
  {
   "cell_type": "code",
   "execution_count": null,
   "id": "abe0f060-379a-4473-b87f-95f8ccb34d21",
   "metadata": {},
   "outputs": [],
   "source": [
    "username.send_keys(Keys.RETURN)"
   ]
  },
  {
   "cell_type": "code",
   "execution_count": 7,
   "id": "239b8691-9563-408a-9372-9b354051f280",
   "metadata": {},
   "outputs": [],
   "source": [
    "my_password = \"santa1234\"\n",
    "# santa1234"
   ]
  },
  {
   "cell_type": "code",
   "execution_count": 8,
   "id": "74295c81-9624-470a-9405-03df321f7c79",
   "metadata": {},
   "outputs": [],
   "source": [
    "# Filling in password\n",
    "password = driver.find_elements(By.XPATH,\"//input\")[1]\n",
    "password.send_keys(my_password)\n"
   ]
  },
  {
   "cell_type": "code",
   "execution_count": 9,
   "id": "181b7c85-0903-4b39-9e90-c91e3f8b2d2e",
   "metadata": {},
   "outputs": [],
   "source": [
    "# clicking in login\n",
    "password.send_keys(Keys.RETURN)"
   ]
  },
  {
   "cell_type": "code",
   "execution_count": 12,
   "id": "43c6231c-298a-4cef-b7d1-36a4561690db",
   "metadata": {},
   "outputs": [],
   "source": [
    "# type in #polynote in search bar(top-right)\n",
    "search_input = driver.find_element(By.XPATH,\"//input[@aria-label='Search query']\")\n",
    "search_input.send_keys(\"@naeemahmedphd\")"
   ]
  },
  {
   "cell_type": "code",
   "execution_count": 13,
   "id": "0c697130-971a-4e17-a7f4-8fbfa9126bf6",
   "metadata": {},
   "outputs": [],
   "source": [
    "# press enter\n",
    "search_input.send_keys(Keys.RETURN)"
   ]
  },
  {
   "cell_type": "code",
   "execution_count": 14,
   "id": "f0eba6c2-03c8-4956-b329-eea00f88ed92",
   "metadata": {},
   "outputs": [],
   "source": [
    "# # click on the Latest tab\n",
    "# driver.find_element(By.LINK_TEXT,'Latest').click()"
   ]
  },
  {
   "cell_type": "code",
   "execution_count": 20,
   "id": "c843e019-6910-45f0-b98d-aade21ef3bc6",
   "metadata": {},
   "outputs": [],
   "source": [
    "# clincking the first lingk\n",
    "driver.find_element(By.XPATH,\"//div[@data-testid='cellInnerDiv'][3]//span[1]\").click()"
   ]
  },
  {
   "cell_type": "code",
   "execution_count": 23,
   "id": "e336e804-b89e-42ff-9536-2a417efd1ccc",
   "metadata": {},
   "outputs": [],
   "source": [
    "cards = driver.find_elements(By.XPATH,\"//div[@data-testid='cellInnerDiv']//article/div/div/div/div/div[2]\")\n",
    "card = cards[0]"
   ]
  },
  {
   "cell_type": "code",
   "execution_count": 24,
   "id": "2c96392c-9288-4482-b977-732407831c76",
   "metadata": {},
   "outputs": [
    {
     "data": {
      "text/plain": [
       "'Naeem Ahmad'"
      ]
     },
     "execution_count": 24,
     "metadata": {},
     "output_type": "execute_result"
    }
   ],
   "source": [
    "# div/div/div/div/div/div/div\n",
    "name = card.find_element(By.XPATH , \".//span/span\").text\n",
    "name"
   ]
  },
  {
   "cell_type": "code",
   "execution_count": 25,
   "id": "19293d21-a3e2-4957-bd5a-c853edda9f0e",
   "metadata": {},
   "outputs": [
    {
     "data": {
      "text/plain": [
       "'Just joined the 100 subscribers on YouTube club. VIRTUAL HIGH-FIVE!'"
      ]
     },
     "execution_count": 25,
     "metadata": {},
     "output_type": "execute_result"
    }
   ],
   "source": [
    "twtText = card.find_element(By.XPATH , \".//div[@data-testid='tweetText']\").text\n",
    "twtText"
   ]
  },
  {
   "cell_type": "code",
   "execution_count": 26,
   "id": "6e464bf0-2e51-4e72-8e59-b44cb9e2795b",
   "metadata": {},
   "outputs": [
    {
     "data": {
      "text/plain": [
       "'Sep 28, 2020'"
      ]
     },
     "execution_count": 26,
     "metadata": {},
     "output_type": "execute_result"
    }
   ],
   "source": [
    "twtTime = card.find_element(By.XPATH , \".//time\").text\n",
    "twtTime"
   ]
  },
  {
   "cell_type": "code",
   "execution_count": 27,
   "id": "3e04125b-ab2b-4d68-a9a6-9ed38009f2de",
   "metadata": {},
   "outputs": [
    {
     "ename": "NoSuchElementException",
     "evalue": "Message: no such element: Unable to locate element: {\"method\":\"xpath\",\"selector\":\".//span/span/span\"}\n  (Session info: MicrosoftEdge=109.0.1518.55)\nStacktrace:\nBacktrace:\n\tMicrosoft::Applications::Events::EventProperties::SetProperty [0x00007FF6CD280A12+15186]\n\tMicrosoft::Applications::Events::EventProperty::EventProperty [0x00007FF6CD219562+828946]\n\t(No symbol) [0x00007FF6CCEDED90]\n\t(No symbol) [0x00007FF6CCF22225]\n\t(No symbol) [0x00007FF6CCF223AC]\n\t(No symbol) [0x00007FF6CCF14CAC]\n\t(No symbol) [0x00007FF6CCF41F8F]\n\t(No symbol) [0x00007FF6CCF14C3E]\n\t(No symbol) [0x00007FF6CCF14B11]\n\t(No symbol) [0x00007FF6CCF42280]\n\t(No symbol) [0x00007FF6CCF14C3E]\n\t(No symbol) [0x00007FF6CCF5B513]\n\t(No symbol) [0x00007FF6CCF41D23]\n\t(No symbol) [0x00007FF6CCF13B80]\n\t(No symbol) [0x00007FF6CCF12B0E]\n\t(No symbol) [0x00007FF6CCF14344]\n\tMicrosoft::Applications::Events::EventProperties::SetProperty [0x00007FF6CD0FB190+182768]\n\t(No symbol) [0x00007FF6CCFCEF45]\n\tMicrosoft::Applications::Events::EventProperty::EventProperty [0x00007FF6CD1594CA+42362]\n\tMicrosoft::Applications::Events::EventProperty::EventProperty [0x00007FF6CD15C205+53941]\n\tMicrosoft::Applications::Events::ILogManager::DispatchEventBroadcast [0x00007FF6CD477E13+1456611]\n\tMicrosoft::Applications::Events::EventProperty::EventProperty [0x00007FF6CD221ABA+863082]\n\tMicrosoft::Applications::Events::EventProperty::EventProperty [0x00007FF6CD226BA4+883796]\n\tMicrosoft::Applications::Events::EventProperty::EventProperty [0x00007FF6CD226CFC+884140]\n\tMicrosoft::Applications::Events::EventProperty::EventProperty [0x00007FF6CD22FCCE+920958]\n\tBaseThreadInitThunk [0x00007FFA89A055A0+16]\n\tRtlUserThreadStart [0x00007FFA8AE8485B+43]\n",
     "output_type": "error",
     "traceback": [
      "\u001b[1;31m---------------------------------------------------------------------------\u001b[0m",
      "\u001b[1;31mNoSuchElementException\u001b[0m                    Traceback (most recent call last)",
      "Input \u001b[1;32mIn [27]\u001b[0m, in \u001b[0;36m<cell line: 3>\u001b[1;34m()\u001b[0m\n\u001b[0;32m      1\u001b[0m \u001b[38;5;66;03m# //div[@data-testid='cellInnerDiv']//article/div/div/div/div/div[2]/div/div[3]/div/div[1]\u001b[39;00m\n\u001b[0;32m      2\u001b[0m \u001b[38;5;66;03m# /div/div[3]/div/div[1]/a/div/div[2]/span/span/span\u001b[39;00m\n\u001b[1;32m----> 3\u001b[0m twtView \u001b[38;5;241m=\u001b[39m \u001b[43mcard\u001b[49m\u001b[38;5;241;43m.\u001b[39;49m\u001b[43mfind_element\u001b[49m\u001b[43m(\u001b[49m\u001b[43mBy\u001b[49m\u001b[38;5;241;43m.\u001b[39;49m\u001b[43mXPATH\u001b[49m\u001b[43m \u001b[49m\u001b[43m,\u001b[49m\u001b[43m \u001b[49m\u001b[38;5;124;43m\"\u001b[39;49m\u001b[38;5;124;43m.//span/span/span\u001b[39;49m\u001b[38;5;124;43m\"\u001b[39;49m\u001b[43m)\u001b[49m\u001b[38;5;241m.\u001b[39mtext\n\u001b[0;32m      4\u001b[0m twtView\n",
      "File \u001b[1;32m~\\anaconda3\\lib\\site-packages\\selenium\\webdriver\\remote\\webelement.py:433\u001b[0m, in \u001b[0;36mWebElement.find_element\u001b[1;34m(self, by, value)\u001b[0m\n\u001b[0;32m    430\u001b[0m     by \u001b[38;5;241m=\u001b[39m By\u001b[38;5;241m.\u001b[39mCSS_SELECTOR\n\u001b[0;32m    431\u001b[0m     value \u001b[38;5;241m=\u001b[39m \u001b[38;5;124m'\u001b[39m\u001b[38;5;124m[name=\u001b[39m\u001b[38;5;124m\"\u001b[39m\u001b[38;5;132;01m%s\u001b[39;00m\u001b[38;5;124m\"\u001b[39m\u001b[38;5;124m]\u001b[39m\u001b[38;5;124m'\u001b[39m \u001b[38;5;241m%\u001b[39m value\n\u001b[1;32m--> 433\u001b[0m \u001b[38;5;28;01mreturn\u001b[39;00m \u001b[38;5;28;43mself\u001b[39;49m\u001b[38;5;241;43m.\u001b[39;49m\u001b[43m_execute\u001b[49m\u001b[43m(\u001b[49m\u001b[43mCommand\u001b[49m\u001b[38;5;241;43m.\u001b[39;49m\u001b[43mFIND_CHILD_ELEMENT\u001b[49m\u001b[43m,\u001b[49m\u001b[43m \u001b[49m\u001b[43m{\u001b[49m\u001b[38;5;124;43m\"\u001b[39;49m\u001b[38;5;124;43musing\u001b[39;49m\u001b[38;5;124;43m\"\u001b[39;49m\u001b[43m:\u001b[49m\u001b[43m \u001b[49m\u001b[43mby\u001b[49m\u001b[43m,\u001b[49m\u001b[43m \u001b[49m\u001b[38;5;124;43m\"\u001b[39;49m\u001b[38;5;124;43mvalue\u001b[39;49m\u001b[38;5;124;43m\"\u001b[39;49m\u001b[43m:\u001b[49m\u001b[43m \u001b[49m\u001b[43mvalue\u001b[49m\u001b[43m}\u001b[49m\u001b[43m)\u001b[49m[\u001b[38;5;124m\"\u001b[39m\u001b[38;5;124mvalue\u001b[39m\u001b[38;5;124m\"\u001b[39m]\n",
      "File \u001b[1;32m~\\anaconda3\\lib\\site-packages\\selenium\\webdriver\\remote\\webelement.py:410\u001b[0m, in \u001b[0;36mWebElement._execute\u001b[1;34m(self, command, params)\u001b[0m\n\u001b[0;32m    408\u001b[0m     params \u001b[38;5;241m=\u001b[39m {}\n\u001b[0;32m    409\u001b[0m params[\u001b[38;5;124m\"\u001b[39m\u001b[38;5;124mid\u001b[39m\u001b[38;5;124m\"\u001b[39m] \u001b[38;5;241m=\u001b[39m \u001b[38;5;28mself\u001b[39m\u001b[38;5;241m.\u001b[39m_id\n\u001b[1;32m--> 410\u001b[0m \u001b[38;5;28;01mreturn\u001b[39;00m \u001b[38;5;28;43mself\u001b[39;49m\u001b[38;5;241;43m.\u001b[39;49m\u001b[43m_parent\u001b[49m\u001b[38;5;241;43m.\u001b[39;49m\u001b[43mexecute\u001b[49m\u001b[43m(\u001b[49m\u001b[43mcommand\u001b[49m\u001b[43m,\u001b[49m\u001b[43m \u001b[49m\u001b[43mparams\u001b[49m\u001b[43m)\u001b[49m\n",
      "File \u001b[1;32m~\\anaconda3\\lib\\site-packages\\selenium\\webdriver\\remote\\webdriver.py:444\u001b[0m, in \u001b[0;36mWebDriver.execute\u001b[1;34m(self, driver_command, params)\u001b[0m\n\u001b[0;32m    442\u001b[0m response \u001b[38;5;241m=\u001b[39m \u001b[38;5;28mself\u001b[39m\u001b[38;5;241m.\u001b[39mcommand_executor\u001b[38;5;241m.\u001b[39mexecute(driver_command, params)\n\u001b[0;32m    443\u001b[0m \u001b[38;5;28;01mif\u001b[39;00m response:\n\u001b[1;32m--> 444\u001b[0m     \u001b[38;5;28;43mself\u001b[39;49m\u001b[38;5;241;43m.\u001b[39;49m\u001b[43merror_handler\u001b[49m\u001b[38;5;241;43m.\u001b[39;49m\u001b[43mcheck_response\u001b[49m\u001b[43m(\u001b[49m\u001b[43mresponse\u001b[49m\u001b[43m)\u001b[49m\n\u001b[0;32m    445\u001b[0m     response[\u001b[38;5;124m\"\u001b[39m\u001b[38;5;124mvalue\u001b[39m\u001b[38;5;124m\"\u001b[39m] \u001b[38;5;241m=\u001b[39m \u001b[38;5;28mself\u001b[39m\u001b[38;5;241m.\u001b[39m_unwrap_value(response\u001b[38;5;241m.\u001b[39mget(\u001b[38;5;124m\"\u001b[39m\u001b[38;5;124mvalue\u001b[39m\u001b[38;5;124m\"\u001b[39m, \u001b[38;5;28;01mNone\u001b[39;00m))\n\u001b[0;32m    446\u001b[0m     \u001b[38;5;28;01mreturn\u001b[39;00m response\n",
      "File \u001b[1;32m~\\anaconda3\\lib\\site-packages\\selenium\\webdriver\\remote\\errorhandler.py:249\u001b[0m, in \u001b[0;36mErrorHandler.check_response\u001b[1;34m(self, response)\u001b[0m\n\u001b[0;32m    247\u001b[0m         alert_text \u001b[38;5;241m=\u001b[39m value[\u001b[38;5;124m\"\u001b[39m\u001b[38;5;124malert\u001b[39m\u001b[38;5;124m\"\u001b[39m]\u001b[38;5;241m.\u001b[39mget(\u001b[38;5;124m\"\u001b[39m\u001b[38;5;124mtext\u001b[39m\u001b[38;5;124m\"\u001b[39m)\n\u001b[0;32m    248\u001b[0m     \u001b[38;5;28;01mraise\u001b[39;00m exception_class(message, screen, stacktrace, alert_text)  \u001b[38;5;66;03m# type: ignore[call-arg]  # mypy is not smart enough here\u001b[39;00m\n\u001b[1;32m--> 249\u001b[0m \u001b[38;5;28;01mraise\u001b[39;00m exception_class(message, screen, stacktrace)\n",
      "\u001b[1;31mNoSuchElementException\u001b[0m: Message: no such element: Unable to locate element: {\"method\":\"xpath\",\"selector\":\".//span/span/span\"}\n  (Session info: MicrosoftEdge=109.0.1518.55)\nStacktrace:\nBacktrace:\n\tMicrosoft::Applications::Events::EventProperties::SetProperty [0x00007FF6CD280A12+15186]\n\tMicrosoft::Applications::Events::EventProperty::EventProperty [0x00007FF6CD219562+828946]\n\t(No symbol) [0x00007FF6CCEDED90]\n\t(No symbol) [0x00007FF6CCF22225]\n\t(No symbol) [0x00007FF6CCF223AC]\n\t(No symbol) [0x00007FF6CCF14CAC]\n\t(No symbol) [0x00007FF6CCF41F8F]\n\t(No symbol) [0x00007FF6CCF14C3E]\n\t(No symbol) [0x00007FF6CCF14B11]\n\t(No symbol) [0x00007FF6CCF42280]\n\t(No symbol) [0x00007FF6CCF14C3E]\n\t(No symbol) [0x00007FF6CCF5B513]\n\t(No symbol) [0x00007FF6CCF41D23]\n\t(No symbol) [0x00007FF6CCF13B80]\n\t(No symbol) [0x00007FF6CCF12B0E]\n\t(No symbol) [0x00007FF6CCF14344]\n\tMicrosoft::Applications::Events::EventProperties::SetProperty [0x00007FF6CD0FB190+182768]\n\t(No symbol) [0x00007FF6CCFCEF45]\n\tMicrosoft::Applications::Events::EventProperty::EventProperty [0x00007FF6CD1594CA+42362]\n\tMicrosoft::Applications::Events::EventProperty::EventProperty [0x00007FF6CD15C205+53941]\n\tMicrosoft::Applications::Events::ILogManager::DispatchEventBroadcast [0x00007FF6CD477E13+1456611]\n\tMicrosoft::Applications::Events::EventProperty::EventProperty [0x00007FF6CD221ABA+863082]\n\tMicrosoft::Applications::Events::EventProperty::EventProperty [0x00007FF6CD226BA4+883796]\n\tMicrosoft::Applications::Events::EventProperty::EventProperty [0x00007FF6CD226CFC+884140]\n\tMicrosoft::Applications::Events::EventProperty::EventProperty [0x00007FF6CD22FCCE+920958]\n\tBaseThreadInitThunk [0x00007FFA89A055A0+16]\n\tRtlUserThreadStart [0x00007FFA8AE8485B+43]\n"
     ]
    }
   ],
   "source": [
    "# //div[@data-testid='cellInnerDiv']//article/div/div/div/div/div[2]/div/div[3]/div/div[1]\n",
    "# /div/div[3]/div/div[1]/a/div/div[2]/span/span/span\n",
    "twtView = card.find_element(By.XPATH , \".//span/span/span\").text\n",
    "twtView"
   ]
  },
  {
   "cell_type": "code",
   "execution_count": 30,
   "id": "8b1cce09-3050-4f1f-8e33-9c41f51e6d9c",
   "metadata": {},
   "outputs": [
    {
     "data": {
      "text/plain": [
       "True"
      ]
     },
     "execution_count": 30,
     "metadata": {},
     "output_type": "execute_result"
    }
   ],
   "source": [
    "# /div/div[3]/div/div[2]/div/div/div[2]/span/span/span\n",
    "twtComments = card.find_element(By.XPATH , \".//div[@data-testid='reply']\").text\n",
    "twtComments==''"
   ]
  },
  {
   "cell_type": "code",
   "execution_count": 23,
   "id": "19f1e589-f42d-40e2-a922-a6fe1ebf20cd",
   "metadata": {},
   "outputs": [
    {
     "data": {
      "text/plain": [
       "'90'"
      ]
     },
     "execution_count": 23,
     "metadata": {},
     "output_type": "execute_result"
    }
   ],
   "source": [
    "# /div/div[3]/div/div[3]/div/div/div[2]/span/span/span\n",
    "retwts = card.find_element(By.XPATH , \".//div[@data-testid='retweet']\").text\n",
    "retwts"
   ]
  },
  {
   "cell_type": "code",
   "execution_count": 24,
   "id": "bc034ec5-b7a2-4edd-a721-4f447941b447",
   "metadata": {},
   "outputs": [
    {
     "data": {
      "text/plain": [
       "'881'"
      ]
     },
     "execution_count": 24,
     "metadata": {},
     "output_type": "execute_result"
    }
   ],
   "source": [
    "# /div/div[3]/div/div[4]/div/div/div[2]/span/span/span\n",
    "likes = card.find_element(By.XPATH , \".//div[@data-testid='like']\").text\n",
    "likes"
   ]
  },
  {
   "cell_type": "code",
   "execution_count": 93,
   "id": "262664cc-1539-4c2b-b820-beafd32746a4",
   "metadata": {},
   "outputs": [],
   "source": [
    "def get_tweet_data(card):\n",
    "    \"\"\"Extract data from tweet data\"\"\"\n",
    "    username = card.find_element(By.XPATH , \".//span/span\").text\n",
    "    try:\n",
    "        twtTime = card.find_element(By.XPATH , \".//time\").text\n",
    "    except NoSuchElementException:\n",
    "        return\n",
    "    twtText = card.find_element(By.XPATH , \".//div[@data-testid='tweetText']\").text\n",
    "    twtView = card.find_element(By.XPATH , \"./div/div[3]/div/div[1]/a/div/div[2]/span/span/span\").text\n",
    "    twtComments = card.find_element(By.XPATH , \".//div[@data-testid='reply']\").text\n",
    "    retwts = card.find_element(By.XPATH , \".//div[@data-testid='retweet']\").text\n",
    "    twtlikes = card.find_element(By.XPATH , \".//div[@data-testid='like']\").text\n",
    "    tweet = (username,twtTime,twtText,twtView,twtComments,retwts,twtlikes)\n",
    "    return tweet"
   ]
  },
  {
   "cell_type": "code",
   "execution_count": 94,
   "id": "c4b12ec0-e2bb-4de3-8752-b657c2c2ba91",
   "metadata": {},
   "outputs": [
    {
     "ename": "NoSuchElementException",
     "evalue": "Message: no such element: Unable to locate element: {\"method\":\"xpath\",\"selector\":\"./div/div[3]/div/div[1]/a/div/div[2]/span/span/span\"}\n  (Session info: MicrosoftEdge=109.0.1518.55)\nStacktrace:\nBacktrace:\n\tMicrosoft::Applications::Events::EventProperties::SetProperty [0x00007FF71D0E0A12+15186]\n\tMicrosoft::Applications::Events::EventProperty::EventProperty [0x00007FF71D079562+828946]\n\t(No symbol) [0x00007FF71CD3ED90]\n\t(No symbol) [0x00007FF71CD82225]\n\t(No symbol) [0x00007FF71CD823AC]\n\t(No symbol) [0x00007FF71CD74CAC]\n\t(No symbol) [0x00007FF71CDA1F8F]\n\t(No symbol) [0x00007FF71CD74C3E]\n\t(No symbol) [0x00007FF71CD74B11]\n\t(No symbol) [0x00007FF71CDA2280]\n\t(No symbol) [0x00007FF71CD74C3E]\n\t(No symbol) [0x00007FF71CDBB513]\n\t(No symbol) [0x00007FF71CDA1D23]\n\t(No symbol) [0x00007FF71CD73B80]\n\t(No symbol) [0x00007FF71CD72B0E]\n\t(No symbol) [0x00007FF71CD74344]\n\tMicrosoft::Applications::Events::EventProperties::SetProperty [0x00007FF71CF5B190+182768]\n\t(No symbol) [0x00007FF71CE2EF45]\n\tMicrosoft::Applications::Events::EventProperty::EventProperty [0x00007FF71CFB94CA+42362]\n\tMicrosoft::Applications::Events::EventProperty::EventProperty [0x00007FF71CFBC205+53941]\n\tMicrosoft::Applications::Events::ILogManager::DispatchEventBroadcast [0x00007FF71D2D7E13+1456611]\n\tMicrosoft::Applications::Events::EventProperty::EventProperty [0x00007FF71D081ABA+863082]\n\tMicrosoft::Applications::Events::EventProperty::EventProperty [0x00007FF71D086BA4+883796]\n\tMicrosoft::Applications::Events::EventProperty::EventProperty [0x00007FF71D086CFC+884140]\n\tMicrosoft::Applications::Events::EventProperty::EventProperty [0x00007FF71D08FCCE+920958]\n\tBaseThreadInitThunk [0x00007FFAA73855A0+16]\n\tRtlUserThreadStart [0x00007FFAA86C485B+43]\n",
     "output_type": "error",
     "traceback": [
      "\u001b[1;31m---------------------------------------------------------------------------\u001b[0m",
      "\u001b[1;31mNoSuchElementException\u001b[0m                    Traceback (most recent call last)",
      "Input \u001b[1;32mIn [94]\u001b[0m, in \u001b[0;36m<cell line: 2>\u001b[1;34m()\u001b[0m\n\u001b[0;32m      1\u001b[0m cards \u001b[38;5;241m=\u001b[39m driver\u001b[38;5;241m.\u001b[39mfind_elements(By\u001b[38;5;241m.\u001b[39mXPATH,\u001b[38;5;124m\"\u001b[39m\u001b[38;5;124m//div[@data-testid=\u001b[39m\u001b[38;5;124m'\u001b[39m\u001b[38;5;124mcellInnerDiv\u001b[39m\u001b[38;5;124m'\u001b[39m\u001b[38;5;124m]//article/div/div/div/div/div[2]\u001b[39m\u001b[38;5;124m\"\u001b[39m)\n\u001b[1;32m----> 2\u001b[0m \u001b[43mget_tweet_data\u001b[49m\u001b[43m(\u001b[49m\u001b[43mcards\u001b[49m\u001b[43m[\u001b[49m\u001b[38;5;241;43m0\u001b[39;49m\u001b[43m]\u001b[49m\u001b[43m)\u001b[49m\n",
      "Input \u001b[1;32mIn [93]\u001b[0m, in \u001b[0;36mget_tweet_data\u001b[1;34m(card)\u001b[0m\n\u001b[0;32m      7\u001b[0m     \u001b[38;5;28;01mreturn\u001b[39;00m\n\u001b[0;32m      8\u001b[0m twtText \u001b[38;5;241m=\u001b[39m card\u001b[38;5;241m.\u001b[39mfind_element(By\u001b[38;5;241m.\u001b[39mXPATH , \u001b[38;5;124m\"\u001b[39m\u001b[38;5;124m.//div[@data-testid=\u001b[39m\u001b[38;5;124m'\u001b[39m\u001b[38;5;124mtweetText\u001b[39m\u001b[38;5;124m'\u001b[39m\u001b[38;5;124m]\u001b[39m\u001b[38;5;124m\"\u001b[39m)\u001b[38;5;241m.\u001b[39mtext\n\u001b[1;32m----> 9\u001b[0m twtView \u001b[38;5;241m=\u001b[39m \u001b[43mcard\u001b[49m\u001b[38;5;241;43m.\u001b[39;49m\u001b[43mfind_element\u001b[49m\u001b[43m(\u001b[49m\u001b[43mBy\u001b[49m\u001b[38;5;241;43m.\u001b[39;49m\u001b[43mXPATH\u001b[49m\u001b[43m \u001b[49m\u001b[43m,\u001b[49m\u001b[43m \u001b[49m\u001b[38;5;124;43m\"\u001b[39;49m\u001b[38;5;124;43m./div/div[3]/div/div[1]/a/div/div[2]/span/span/span\u001b[39;49m\u001b[38;5;124;43m\"\u001b[39;49m\u001b[43m)\u001b[49m\u001b[38;5;241m.\u001b[39mtext\n\u001b[0;32m     10\u001b[0m twtComments \u001b[38;5;241m=\u001b[39m card\u001b[38;5;241m.\u001b[39mfind_element(By\u001b[38;5;241m.\u001b[39mXPATH , \u001b[38;5;124m\"\u001b[39m\u001b[38;5;124m.//div[@data-testid=\u001b[39m\u001b[38;5;124m'\u001b[39m\u001b[38;5;124mreply\u001b[39m\u001b[38;5;124m'\u001b[39m\u001b[38;5;124m]\u001b[39m\u001b[38;5;124m\"\u001b[39m)\u001b[38;5;241m.\u001b[39mtext\n\u001b[0;32m     11\u001b[0m retwts \u001b[38;5;241m=\u001b[39m card\u001b[38;5;241m.\u001b[39mfind_element(By\u001b[38;5;241m.\u001b[39mXPATH , \u001b[38;5;124m\"\u001b[39m\u001b[38;5;124m.//div[@data-testid=\u001b[39m\u001b[38;5;124m'\u001b[39m\u001b[38;5;124mretweet\u001b[39m\u001b[38;5;124m'\u001b[39m\u001b[38;5;124m]\u001b[39m\u001b[38;5;124m\"\u001b[39m)\u001b[38;5;241m.\u001b[39mtext\n",
      "File \u001b[1;32m~\\anaconda3\\lib\\site-packages\\selenium\\webdriver\\remote\\webelement.py:433\u001b[0m, in \u001b[0;36mWebElement.find_element\u001b[1;34m(self, by, value)\u001b[0m\n\u001b[0;32m    430\u001b[0m     by \u001b[38;5;241m=\u001b[39m By\u001b[38;5;241m.\u001b[39mCSS_SELECTOR\n\u001b[0;32m    431\u001b[0m     value \u001b[38;5;241m=\u001b[39m \u001b[38;5;124m'\u001b[39m\u001b[38;5;124m[name=\u001b[39m\u001b[38;5;124m\"\u001b[39m\u001b[38;5;132;01m%s\u001b[39;00m\u001b[38;5;124m\"\u001b[39m\u001b[38;5;124m]\u001b[39m\u001b[38;5;124m'\u001b[39m \u001b[38;5;241m%\u001b[39m value\n\u001b[1;32m--> 433\u001b[0m \u001b[38;5;28;01mreturn\u001b[39;00m \u001b[38;5;28;43mself\u001b[39;49m\u001b[38;5;241;43m.\u001b[39;49m\u001b[43m_execute\u001b[49m\u001b[43m(\u001b[49m\u001b[43mCommand\u001b[49m\u001b[38;5;241;43m.\u001b[39;49m\u001b[43mFIND_CHILD_ELEMENT\u001b[49m\u001b[43m,\u001b[49m\u001b[43m \u001b[49m\u001b[43m{\u001b[49m\u001b[38;5;124;43m\"\u001b[39;49m\u001b[38;5;124;43musing\u001b[39;49m\u001b[38;5;124;43m\"\u001b[39;49m\u001b[43m:\u001b[49m\u001b[43m \u001b[49m\u001b[43mby\u001b[49m\u001b[43m,\u001b[49m\u001b[43m \u001b[49m\u001b[38;5;124;43m\"\u001b[39;49m\u001b[38;5;124;43mvalue\u001b[39;49m\u001b[38;5;124;43m\"\u001b[39;49m\u001b[43m:\u001b[49m\u001b[43m \u001b[49m\u001b[43mvalue\u001b[49m\u001b[43m}\u001b[49m\u001b[43m)\u001b[49m[\u001b[38;5;124m\"\u001b[39m\u001b[38;5;124mvalue\u001b[39m\u001b[38;5;124m\"\u001b[39m]\n",
      "File \u001b[1;32m~\\anaconda3\\lib\\site-packages\\selenium\\webdriver\\remote\\webelement.py:410\u001b[0m, in \u001b[0;36mWebElement._execute\u001b[1;34m(self, command, params)\u001b[0m\n\u001b[0;32m    408\u001b[0m     params \u001b[38;5;241m=\u001b[39m {}\n\u001b[0;32m    409\u001b[0m params[\u001b[38;5;124m\"\u001b[39m\u001b[38;5;124mid\u001b[39m\u001b[38;5;124m\"\u001b[39m] \u001b[38;5;241m=\u001b[39m \u001b[38;5;28mself\u001b[39m\u001b[38;5;241m.\u001b[39m_id\n\u001b[1;32m--> 410\u001b[0m \u001b[38;5;28;01mreturn\u001b[39;00m \u001b[38;5;28;43mself\u001b[39;49m\u001b[38;5;241;43m.\u001b[39;49m\u001b[43m_parent\u001b[49m\u001b[38;5;241;43m.\u001b[39;49m\u001b[43mexecute\u001b[49m\u001b[43m(\u001b[49m\u001b[43mcommand\u001b[49m\u001b[43m,\u001b[49m\u001b[43m \u001b[49m\u001b[43mparams\u001b[49m\u001b[43m)\u001b[49m\n",
      "File \u001b[1;32m~\\anaconda3\\lib\\site-packages\\selenium\\webdriver\\remote\\webdriver.py:444\u001b[0m, in \u001b[0;36mWebDriver.execute\u001b[1;34m(self, driver_command, params)\u001b[0m\n\u001b[0;32m    442\u001b[0m response \u001b[38;5;241m=\u001b[39m \u001b[38;5;28mself\u001b[39m\u001b[38;5;241m.\u001b[39mcommand_executor\u001b[38;5;241m.\u001b[39mexecute(driver_command, params)\n\u001b[0;32m    443\u001b[0m \u001b[38;5;28;01mif\u001b[39;00m response:\n\u001b[1;32m--> 444\u001b[0m     \u001b[38;5;28;43mself\u001b[39;49m\u001b[38;5;241;43m.\u001b[39;49m\u001b[43merror_handler\u001b[49m\u001b[38;5;241;43m.\u001b[39;49m\u001b[43mcheck_response\u001b[49m\u001b[43m(\u001b[49m\u001b[43mresponse\u001b[49m\u001b[43m)\u001b[49m\n\u001b[0;32m    445\u001b[0m     response[\u001b[38;5;124m\"\u001b[39m\u001b[38;5;124mvalue\u001b[39m\u001b[38;5;124m\"\u001b[39m] \u001b[38;5;241m=\u001b[39m \u001b[38;5;28mself\u001b[39m\u001b[38;5;241m.\u001b[39m_unwrap_value(response\u001b[38;5;241m.\u001b[39mget(\u001b[38;5;124m\"\u001b[39m\u001b[38;5;124mvalue\u001b[39m\u001b[38;5;124m\"\u001b[39m, \u001b[38;5;28;01mNone\u001b[39;00m))\n\u001b[0;32m    446\u001b[0m     \u001b[38;5;28;01mreturn\u001b[39;00m response\n",
      "File \u001b[1;32m~\\anaconda3\\lib\\site-packages\\selenium\\webdriver\\remote\\errorhandler.py:249\u001b[0m, in \u001b[0;36mErrorHandler.check_response\u001b[1;34m(self, response)\u001b[0m\n\u001b[0;32m    247\u001b[0m         alert_text \u001b[38;5;241m=\u001b[39m value[\u001b[38;5;124m\"\u001b[39m\u001b[38;5;124malert\u001b[39m\u001b[38;5;124m\"\u001b[39m]\u001b[38;5;241m.\u001b[39mget(\u001b[38;5;124m\"\u001b[39m\u001b[38;5;124mtext\u001b[39m\u001b[38;5;124m\"\u001b[39m)\n\u001b[0;32m    248\u001b[0m     \u001b[38;5;28;01mraise\u001b[39;00m exception_class(message, screen, stacktrace, alert_text)  \u001b[38;5;66;03m# type: ignore[call-arg]  # mypy is not smart enough here\u001b[39;00m\n\u001b[1;32m--> 249\u001b[0m \u001b[38;5;28;01mraise\u001b[39;00m exception_class(message, screen, stacktrace)\n",
      "\u001b[1;31mNoSuchElementException\u001b[0m: Message: no such element: Unable to locate element: {\"method\":\"xpath\",\"selector\":\"./div/div[3]/div/div[1]/a/div/div[2]/span/span/span\"}\n  (Session info: MicrosoftEdge=109.0.1518.55)\nStacktrace:\nBacktrace:\n\tMicrosoft::Applications::Events::EventProperties::SetProperty [0x00007FF71D0E0A12+15186]\n\tMicrosoft::Applications::Events::EventProperty::EventProperty [0x00007FF71D079562+828946]\n\t(No symbol) [0x00007FF71CD3ED90]\n\t(No symbol) [0x00007FF71CD82225]\n\t(No symbol) [0x00007FF71CD823AC]\n\t(No symbol) [0x00007FF71CD74CAC]\n\t(No symbol) [0x00007FF71CDA1F8F]\n\t(No symbol) [0x00007FF71CD74C3E]\n\t(No symbol) [0x00007FF71CD74B11]\n\t(No symbol) [0x00007FF71CDA2280]\n\t(No symbol) [0x00007FF71CD74C3E]\n\t(No symbol) [0x00007FF71CDBB513]\n\t(No symbol) [0x00007FF71CDA1D23]\n\t(No symbol) [0x00007FF71CD73B80]\n\t(No symbol) [0x00007FF71CD72B0E]\n\t(No symbol) [0x00007FF71CD74344]\n\tMicrosoft::Applications::Events::EventProperties::SetProperty [0x00007FF71CF5B190+182768]\n\t(No symbol) [0x00007FF71CE2EF45]\n\tMicrosoft::Applications::Events::EventProperty::EventProperty [0x00007FF71CFB94CA+42362]\n\tMicrosoft::Applications::Events::EventProperty::EventProperty [0x00007FF71CFBC205+53941]\n\tMicrosoft::Applications::Events::ILogManager::DispatchEventBroadcast [0x00007FF71D2D7E13+1456611]\n\tMicrosoft::Applications::Events::EventProperty::EventProperty [0x00007FF71D081ABA+863082]\n\tMicrosoft::Applications::Events::EventProperty::EventProperty [0x00007FF71D086BA4+883796]\n\tMicrosoft::Applications::Events::EventProperty::EventProperty [0x00007FF71D086CFC+884140]\n\tMicrosoft::Applications::Events::EventProperty::EventProperty [0x00007FF71D08FCCE+920958]\n\tBaseThreadInitThunk [0x00007FFAA73855A0+16]\n\tRtlUserThreadStart [0x00007FFAA86C485B+43]\n"
     ]
    }
   ],
   "source": [
    "cards = driver.find_elements(By.XPATH,\"//div[@data-testid='cellInnerDiv']//article/div/div/div/div/div[2]\")\n",
    "get_tweet_data(cards[0])"
   ]
  },
  {
   "cell_type": "code",
   "execution_count": 4,
   "id": "c071f6b7-4573-47eb-9e18-533d0e52217b",
   "metadata": {},
   "outputs": [],
   "source": [
    "userPass = \"santa1234\""
   ]
  },
  {
   "cell_type": "code",
   "execution_count": 59,
   "id": "b8d3d799-bd22-4cf1-9b7d-4486708ae4c9",
   "metadata": {},
   "outputs": [],
   "source": [
    "tweet_data = []\n",
    "\n",
    "for card in cards:\n",
    "    data = get_tweet_data(card)\n",
    "    if data:\n",
    "        tweet_data.append(data)"
   ]
  },
  {
   "cell_type": "code",
   "execution_count": 60,
   "id": "a1ca4458-d957-4f37-811c-2b253be4119f",
   "metadata": {},
   "outputs": [
    {
     "data": {
      "text/plain": [
       "('Amitabh Bachchan', 'Jan 16', 'T 4530 - ', '329K', '255', '393', '11K')"
      ]
     },
     "execution_count": 60,
     "metadata": {},
     "output_type": "execute_result"
    }
   ],
   "source": [
    "tweet_data[2]"
   ]
  },
  {
   "cell_type": "code",
   "execution_count": 62,
   "id": "1b02c33b-7449-4897-9056-238d361e21ba",
   "metadata": {},
   "outputs": [],
   "source": [
    "driver.execute_script('window.scrollTo(0,document.body.scrollHeight);')"
   ]
  },
  {
   "cell_type": "markdown",
   "id": "5fd04a3a-4be9-4cf5-9bd1-6eacf5f755a1",
   "metadata": {},
   "source": [
    "# Putting it all together"
   ]
  },
  {
   "cell_type": "code",
   "execution_count": 3,
   "id": "3f83ae86-3cc8-46d1-89de-a251e65ed76a",
   "metadata": {},
   "outputs": [
    {
     "ename": "NoSuchElementException",
     "evalue": "Message: no such element: Unable to locate element: {\"method\":\"xpath\",\"selector\":\".//div[@data-testid='tweetText']\"}\n  (Session info: MicrosoftEdge=109.0.1518.61)\nStacktrace:\nBacktrace:\n\tMicrosoft::Applications::Events::EventProperties::SetProperty [0x00007FF730E10A12+15186]\n\tMicrosoft::Applications::Events::EventProperty::EventProperty [0x00007FF730DA9562+828946]\n\t(No symbol) [0x00007FF730A6ED90]\n\t(No symbol) [0x00007FF730AB2225]\n\t(No symbol) [0x00007FF730AB23AC]\n\t(No symbol) [0x00007FF730AA4CAC]\n\t(No symbol) [0x00007FF730AD1F8F]\n\t(No symbol) [0x00007FF730AA4C3E]\n\t(No symbol) [0x00007FF730AA4B11]\n\t(No symbol) [0x00007FF730AD2280]\n\t(No symbol) [0x00007FF730AA4C3E]\n\t(No symbol) [0x00007FF730AEB513]\n\t(No symbol) [0x00007FF730AD1D23]\n\t(No symbol) [0x00007FF730AA3B80]\n\t(No symbol) [0x00007FF730AA2B0E]\n\t(No symbol) [0x00007FF730AA4344]\n\tMicrosoft::Applications::Events::EventProperties::SetProperty [0x00007FF730C8B190+182768]\n\t(No symbol) [0x00007FF730B5EF45]\n\tMicrosoft::Applications::Events::EventProperty::EventProperty [0x00007FF730CE94CA+42362]\n\tMicrosoft::Applications::Events::EventProperty::EventProperty [0x00007FF730CEC205+53941]\n\tMicrosoft::Applications::Events::ILogManager::DispatchEventBroadcast [0x00007FF731007E13+1456611]\n\tMicrosoft::Applications::Events::EventProperty::EventProperty [0x00007FF730DB1ABA+863082]\n\tMicrosoft::Applications::Events::EventProperty::EventProperty [0x00007FF730DB6BA4+883796]\n\tMicrosoft::Applications::Events::EventProperty::EventProperty [0x00007FF730DB6CFC+884140]\n\tMicrosoft::Applications::Events::EventProperty::EventProperty [0x00007FF730DBFCCE+920958]\n\tBaseThreadInitThunk [0x00007FFF990455A0+16]\n\tRtlUserThreadStart [0x00007FFF99C0485B+43]\n",
     "output_type": "error",
     "traceback": [
      "\u001b[1;31m---------------------------------------------------------------------------\u001b[0m",
      "\u001b[1;31mNoSuchElementException\u001b[0m                    Traceback (most recent call last)",
      "Input \u001b[1;32mIn [3]\u001b[0m, in \u001b[0;36m<cell line: 102>\u001b[1;34m()\u001b[0m\n\u001b[0;32m    105\u001b[0m \u001b[38;5;28;01mfor\u001b[39;00m card \u001b[38;5;129;01min\u001b[39;00m cards[\u001b[38;5;241m-\u001b[39m\u001b[38;5;241m25\u001b[39m:]:\n\u001b[0;32m    106\u001b[0m     sleep(\u001b[38;5;241m1\u001b[39m)\n\u001b[1;32m--> 107\u001b[0m     tweet \u001b[38;5;241m=\u001b[39m \u001b[43mget_tweet_data\u001b[49m\u001b[43m(\u001b[49m\u001b[43mcard\u001b[49m\u001b[43m)\u001b[49m\n\u001b[0;32m    108\u001b[0m     tweet_id \u001b[38;5;241m=\u001b[39m \u001b[38;5;124m\"\u001b[39m\u001b[38;5;124m\"\u001b[39m\n\u001b[0;32m    109\u001b[0m     \u001b[38;5;28;01mfor\u001b[39;00m i \u001b[38;5;129;01min\u001b[39;00m tweet:\n",
      "Input \u001b[1;32mIn [3]\u001b[0m, in \u001b[0;36mget_tweet_data\u001b[1;34m(card)\u001b[0m\n\u001b[0;32m     27\u001b[0m \u001b[38;5;28;01mexcept\u001b[39;00m NoSuchElementException:\n\u001b[0;32m     28\u001b[0m     \u001b[38;5;28;01mreturn\u001b[39;00m\n\u001b[1;32m---> 29\u001b[0m twtText \u001b[38;5;241m=\u001b[39m \u001b[43mcard\u001b[49m\u001b[38;5;241;43m.\u001b[39;49m\u001b[43mfind_element\u001b[49m\u001b[43m(\u001b[49m\u001b[43mBy\u001b[49m\u001b[38;5;241;43m.\u001b[39;49m\u001b[43mXPATH\u001b[49m\u001b[43m \u001b[49m\u001b[43m,\u001b[49m\u001b[43m \u001b[49m\u001b[38;5;124;43m\"\u001b[39;49m\u001b[38;5;124;43m.//div[@data-testid=\u001b[39;49m\u001b[38;5;124;43m'\u001b[39;49m\u001b[38;5;124;43mtweetText\u001b[39;49m\u001b[38;5;124;43m'\u001b[39;49m\u001b[38;5;124;43m]\u001b[39;49m\u001b[38;5;124;43m\"\u001b[39;49m\u001b[43m)\u001b[49m\u001b[38;5;241m.\u001b[39mtext\n\u001b[0;32m     30\u001b[0m \u001b[38;5;66;03m# twtView = card.find_element(By.XPATH , \"./div/div[3]/div/div[1]/a/div/div[2]/span/span/span\").text\u001b[39;00m\n\u001b[0;32m     31\u001b[0m \u001b[38;5;66;03m# twtView = card.find_element(By.XPATH , \".//span/span/span\").text\u001b[39;00m\n\u001b[0;32m     32\u001b[0m twtComments \u001b[38;5;241m=\u001b[39m card\u001b[38;5;241m.\u001b[39mfind_element(By\u001b[38;5;241m.\u001b[39mXPATH , \u001b[38;5;124m\"\u001b[39m\u001b[38;5;124m.//div[@data-testid=\u001b[39m\u001b[38;5;124m'\u001b[39m\u001b[38;5;124mreply\u001b[39m\u001b[38;5;124m'\u001b[39m\u001b[38;5;124m]\u001b[39m\u001b[38;5;124m\"\u001b[39m)\u001b[38;5;241m.\u001b[39mtext\n",
      "File \u001b[1;32m~\\anaconda3\\lib\\site-packages\\selenium\\webdriver\\remote\\webelement.py:433\u001b[0m, in \u001b[0;36mWebElement.find_element\u001b[1;34m(self, by, value)\u001b[0m\n\u001b[0;32m    430\u001b[0m     by \u001b[38;5;241m=\u001b[39m By\u001b[38;5;241m.\u001b[39mCSS_SELECTOR\n\u001b[0;32m    431\u001b[0m     value \u001b[38;5;241m=\u001b[39m \u001b[38;5;124m'\u001b[39m\u001b[38;5;124m[name=\u001b[39m\u001b[38;5;124m\"\u001b[39m\u001b[38;5;132;01m%s\u001b[39;00m\u001b[38;5;124m\"\u001b[39m\u001b[38;5;124m]\u001b[39m\u001b[38;5;124m'\u001b[39m \u001b[38;5;241m%\u001b[39m value\n\u001b[1;32m--> 433\u001b[0m \u001b[38;5;28;01mreturn\u001b[39;00m \u001b[38;5;28;43mself\u001b[39;49m\u001b[38;5;241;43m.\u001b[39;49m\u001b[43m_execute\u001b[49m\u001b[43m(\u001b[49m\u001b[43mCommand\u001b[49m\u001b[38;5;241;43m.\u001b[39;49m\u001b[43mFIND_CHILD_ELEMENT\u001b[49m\u001b[43m,\u001b[49m\u001b[43m \u001b[49m\u001b[43m{\u001b[49m\u001b[38;5;124;43m\"\u001b[39;49m\u001b[38;5;124;43musing\u001b[39;49m\u001b[38;5;124;43m\"\u001b[39;49m\u001b[43m:\u001b[49m\u001b[43m \u001b[49m\u001b[43mby\u001b[49m\u001b[43m,\u001b[49m\u001b[43m \u001b[49m\u001b[38;5;124;43m\"\u001b[39;49m\u001b[38;5;124;43mvalue\u001b[39;49m\u001b[38;5;124;43m\"\u001b[39;49m\u001b[43m:\u001b[49m\u001b[43m \u001b[49m\u001b[43mvalue\u001b[49m\u001b[43m}\u001b[49m\u001b[43m)\u001b[49m[\u001b[38;5;124m\"\u001b[39m\u001b[38;5;124mvalue\u001b[39m\u001b[38;5;124m\"\u001b[39m]\n",
      "File \u001b[1;32m~\\anaconda3\\lib\\site-packages\\selenium\\webdriver\\remote\\webelement.py:410\u001b[0m, in \u001b[0;36mWebElement._execute\u001b[1;34m(self, command, params)\u001b[0m\n\u001b[0;32m    408\u001b[0m     params \u001b[38;5;241m=\u001b[39m {}\n\u001b[0;32m    409\u001b[0m params[\u001b[38;5;124m\"\u001b[39m\u001b[38;5;124mid\u001b[39m\u001b[38;5;124m\"\u001b[39m] \u001b[38;5;241m=\u001b[39m \u001b[38;5;28mself\u001b[39m\u001b[38;5;241m.\u001b[39m_id\n\u001b[1;32m--> 410\u001b[0m \u001b[38;5;28;01mreturn\u001b[39;00m \u001b[38;5;28;43mself\u001b[39;49m\u001b[38;5;241;43m.\u001b[39;49m\u001b[43m_parent\u001b[49m\u001b[38;5;241;43m.\u001b[39;49m\u001b[43mexecute\u001b[49m\u001b[43m(\u001b[49m\u001b[43mcommand\u001b[49m\u001b[43m,\u001b[49m\u001b[43m \u001b[49m\u001b[43mparams\u001b[49m\u001b[43m)\u001b[49m\n",
      "File \u001b[1;32m~\\anaconda3\\lib\\site-packages\\selenium\\webdriver\\remote\\webdriver.py:444\u001b[0m, in \u001b[0;36mWebDriver.execute\u001b[1;34m(self, driver_command, params)\u001b[0m\n\u001b[0;32m    442\u001b[0m response \u001b[38;5;241m=\u001b[39m \u001b[38;5;28mself\u001b[39m\u001b[38;5;241m.\u001b[39mcommand_executor\u001b[38;5;241m.\u001b[39mexecute(driver_command, params)\n\u001b[0;32m    443\u001b[0m \u001b[38;5;28;01mif\u001b[39;00m response:\n\u001b[1;32m--> 444\u001b[0m     \u001b[38;5;28;43mself\u001b[39;49m\u001b[38;5;241;43m.\u001b[39;49m\u001b[43merror_handler\u001b[49m\u001b[38;5;241;43m.\u001b[39;49m\u001b[43mcheck_response\u001b[49m\u001b[43m(\u001b[49m\u001b[43mresponse\u001b[49m\u001b[43m)\u001b[49m\n\u001b[0;32m    445\u001b[0m     response[\u001b[38;5;124m\"\u001b[39m\u001b[38;5;124mvalue\u001b[39m\u001b[38;5;124m\"\u001b[39m] \u001b[38;5;241m=\u001b[39m \u001b[38;5;28mself\u001b[39m\u001b[38;5;241m.\u001b[39m_unwrap_value(response\u001b[38;5;241m.\u001b[39mget(\u001b[38;5;124m\"\u001b[39m\u001b[38;5;124mvalue\u001b[39m\u001b[38;5;124m\"\u001b[39m, \u001b[38;5;28;01mNone\u001b[39;00m))\n\u001b[0;32m    446\u001b[0m     \u001b[38;5;28;01mreturn\u001b[39;00m response\n",
      "File \u001b[1;32m~\\anaconda3\\lib\\site-packages\\selenium\\webdriver\\remote\\errorhandler.py:249\u001b[0m, in \u001b[0;36mErrorHandler.check_response\u001b[1;34m(self, response)\u001b[0m\n\u001b[0;32m    247\u001b[0m         alert_text \u001b[38;5;241m=\u001b[39m value[\u001b[38;5;124m\"\u001b[39m\u001b[38;5;124malert\u001b[39m\u001b[38;5;124m\"\u001b[39m]\u001b[38;5;241m.\u001b[39mget(\u001b[38;5;124m\"\u001b[39m\u001b[38;5;124mtext\u001b[39m\u001b[38;5;124m\"\u001b[39m)\n\u001b[0;32m    248\u001b[0m     \u001b[38;5;28;01mraise\u001b[39;00m exception_class(message, screen, stacktrace, alert_text)  \u001b[38;5;66;03m# type: ignore[call-arg]  # mypy is not smart enough here\u001b[39;00m\n\u001b[1;32m--> 249\u001b[0m \u001b[38;5;28;01mraise\u001b[39;00m exception_class(message, screen, stacktrace)\n",
      "\u001b[1;31mNoSuchElementException\u001b[0m: Message: no such element: Unable to locate element: {\"method\":\"xpath\",\"selector\":\".//div[@data-testid='tweetText']\"}\n  (Session info: MicrosoftEdge=109.0.1518.61)\nStacktrace:\nBacktrace:\n\tMicrosoft::Applications::Events::EventProperties::SetProperty [0x00007FF730E10A12+15186]\n\tMicrosoft::Applications::Events::EventProperty::EventProperty [0x00007FF730DA9562+828946]\n\t(No symbol) [0x00007FF730A6ED90]\n\t(No symbol) [0x00007FF730AB2225]\n\t(No symbol) [0x00007FF730AB23AC]\n\t(No symbol) [0x00007FF730AA4CAC]\n\t(No symbol) [0x00007FF730AD1F8F]\n\t(No symbol) [0x00007FF730AA4C3E]\n\t(No symbol) [0x00007FF730AA4B11]\n\t(No symbol) [0x00007FF730AD2280]\n\t(No symbol) [0x00007FF730AA4C3E]\n\t(No symbol) [0x00007FF730AEB513]\n\t(No symbol) [0x00007FF730AD1D23]\n\t(No symbol) [0x00007FF730AA3B80]\n\t(No symbol) [0x00007FF730AA2B0E]\n\t(No symbol) [0x00007FF730AA4344]\n\tMicrosoft::Applications::Events::EventProperties::SetProperty [0x00007FF730C8B190+182768]\n\t(No symbol) [0x00007FF730B5EF45]\n\tMicrosoft::Applications::Events::EventProperty::EventProperty [0x00007FF730CE94CA+42362]\n\tMicrosoft::Applications::Events::EventProperty::EventProperty [0x00007FF730CEC205+53941]\n\tMicrosoft::Applications::Events::ILogManager::DispatchEventBroadcast [0x00007FF731007E13+1456611]\n\tMicrosoft::Applications::Events::EventProperty::EventProperty [0x00007FF730DB1ABA+863082]\n\tMicrosoft::Applications::Events::EventProperty::EventProperty [0x00007FF730DB6BA4+883796]\n\tMicrosoft::Applications::Events::EventProperty::EventProperty [0x00007FF730DB6CFC+884140]\n\tMicrosoft::Applications::Events::EventProperty::EventProperty [0x00007FF730DBFCCE+920958]\n\tBaseThreadInitThunk [0x00007FFF990455A0+16]\n\tRtlUserThreadStart [0x00007FFF99C0485B+43]\n"
     ]
    }
   ],
   "source": [
    "import csv\n",
    "from getpass import getpass\n",
    "from time import sleep\n",
    "\n",
    "from selenium.common.exceptions import NoSuchElementException\n",
    "from selenium import webdriver\n",
    "from selenium.webdriver.common.by import By\n",
    "from selenium.webdriver.common.keys import Keys\n",
    "\n",
    "# collecting credentials\n",
    "userEmail = \"bitup62@gmail.com\"\n",
    "userHandle = \"@Santanu5549310\"\n",
    "\n",
    "\n",
    "targetTweeterHandle = \"@SrBachchan\"\n",
    "\n",
    "\n",
    "\n",
    "\n",
    "\n",
    "# the scrapping function\n",
    "def get_tweet_data(card):\n",
    "    \"\"\"Extract data from tweet data\"\"\"\n",
    "    username = card.find_element(By.XPATH , \".//span/span\").text\n",
    "    try:\n",
    "        twtTime = card.find_element(By.XPATH , \".//time\").text\n",
    "    except NoSuchElementException:\n",
    "        return\n",
    "    twtText = card.find_element(By.XPATH , \".//div[@data-testid='tweetText']\").text\n",
    "    # twtView = card.find_element(By.XPATH , \"./div/div[3]/div/div[1]/a/div/div[2]/span/span/span\").text\n",
    "    # twtView = card.find_element(By.XPATH , \".//span/span/span\").text\n",
    "    twtComments = card.find_element(By.XPATH , \".//div[@data-testid='reply']\").text\n",
    "    if (twtComments == ''):\n",
    "        twtComments = 0\n",
    "    retwts = card.find_element(By.XPATH , \".//div[@data-testid='retweet']\").text\n",
    "    if (retwts == ''):\n",
    "        retwts = 0\n",
    "    twtlikes = card.find_element(By.XPATH , \".//div[@data-testid='like']\").text\n",
    "    if (twtlikes == ''):\n",
    "        twtlikes = 0\n",
    "    tweet = (username,twtTime,twtText,twtComments,retwts,twtlikes)\n",
    "    return tweet\n",
    "\n",
    "# creating driver instance\n",
    "driver = webdriver.Edge()\n",
    "sleep(2)\n",
    "\n",
    "# navigate to twitter login\n",
    "driver.get('https://www.twitter.com/login')\n",
    "driver.maximize_window()\n",
    "sleep(4)\n",
    "\n",
    "# filling in the username\n",
    "email = driver.find_element(By.XPATH,\"//input[1]\")\n",
    "email.send_keys(userEmail)\n",
    "# bitup62@gmail.com\n",
    "# clicking the next button\n",
    "email.send_keys(Keys.RETURN)\n",
    "sleep(3)\n",
    "\n",
    "# verify\n",
    "try:\n",
    "    username = driver.find_element(By.XPATH,\"//input[@name='text']\")\n",
    "    username.send_keys(userHandle)\n",
    "    username.send_keys(Keys.RETURN)\n",
    "    sleep(3)\n",
    "except NoSuchElementException:\n",
    "    i=1\n",
    "\n",
    "\n",
    "# filling in password\n",
    "my_password = userPass\n",
    "# santa1234\n",
    "# Filling in password\n",
    "password = driver.find_elements(By.XPATH,\"//input\")[1]\n",
    "password.send_keys(my_password)\n",
    "# clicking in login\n",
    "password.send_keys(Keys.RETURN)\n",
    "sleep(3)\n",
    "\n",
    "\n",
    "\n",
    "# search the handle\n",
    "search_input = driver.find_element(By.XPATH,\"//input[@aria-label='Search query']\")\n",
    "search_input.send_keys(targetTweeterHandle)\n",
    "# press enter\n",
    "search_input.send_keys(Keys.RETURN)\n",
    "sleep(3)\n",
    "\n",
    "# clincking the first account\n",
    "driver.find_element(By.XPATH,\"//div[@data-testid='cellInnerDiv'][3]//span[1]\").click()\n",
    "sleep(3)\n",
    "\n",
    "# get all tweets on the page\n",
    "data = []\n",
    "last_position = driver.execute_script(\"return window.pageYOffset;\")\n",
    "scrolling = True\n",
    "tweet_ids = set()\n",
    "\n",
    "\n",
    "# the scrolling process\n",
    "while scrolling:\n",
    "    \n",
    "    cards = driver.find_elements(By.XPATH,\"//div[@data-testid='cellInnerDiv']//article/div/div/div/div/div[2]\")\n",
    "    for card in cards[-25:]:\n",
    "        sleep(1)\n",
    "        tweet = get_tweet_data(card)\n",
    "        tweet_id = \"\"\n",
    "        for i in tweet:\n",
    "            tweet_id = tweet_id + str(i)\n",
    "        if tweet_id not in tweet_ids:\n",
    "            tweet_ids.add(tweet_id)\n",
    "            data.append(tweet)\n",
    "            \n",
    "    # scrolling if possible\n",
    "    scroll_attempt = 0\n",
    "    while True:\n",
    "        #check scroll position\n",
    "        driver.execute_script('window.scrollTo(0,document.body.scrollHeight);')\n",
    "        sleep(2)\n",
    "        curr_position = driver.execute_script(\"return window.pageYOffset;\")\n",
    "        if last_position == curr_position:\n",
    "            scroll_attempt = scroll_attempt + 1\n",
    "            \n",
    "            #end of scroll region\n",
    "            if scroll_attempt >= 3:\n",
    "                scrolling = False\n",
    "                break\n",
    "            else:\n",
    "                sleep(2)\n",
    "        else:\n",
    "            last_position = curr_position\n",
    "            break"
   ]
  },
  {
   "cell_type": "markdown",
   "id": "3301d781-d881-42c3-b030-7f5492fa2dfa",
   "metadata": {},
   "source": [
    "# Saving the tweet data"
   ]
  },
  {
   "cell_type": "code",
   "execution_count": 9,
   "id": "8424837b-bd27-44e8-a670-cb216fd5c507",
   "metadata": {},
   "outputs": [],
   "source": [
    "with open('tweet_data.csv' , 'w',newline='',encoding='utf-8') as f:\n",
    "    header = ['UserName','PostTime','tweetText','tweetComments','retweets','tweetlikes']\n",
    "    writer = csv.writer(f)\n",
    "    writer.writerow(header)\n",
    "    writer.writerows(data)"
   ]
  },
  {
   "cell_type": "code",
   "execution_count": null,
   "id": "26c67e78-a8ab-4554-9288-6da11397a9e9",
   "metadata": {},
   "outputs": [],
   "source": []
  }
 ],
 "metadata": {
  "kernelspec": {
   "display_name": "Python 3 (ipykernel)",
   "language": "python",
   "name": "python3"
  },
  "language_info": {
   "codemirror_mode": {
    "name": "ipython",
    "version": 3
   },
   "file_extension": ".py",
   "mimetype": "text/x-python",
   "name": "python",
   "nbconvert_exporter": "python",
   "pygments_lexer": "ipython3",
   "version": "3.9.12"
  }
 },
 "nbformat": 4,
 "nbformat_minor": 5
}
